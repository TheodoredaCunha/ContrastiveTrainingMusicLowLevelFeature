{
 "cells": [
  {
   "cell_type": "code",
   "execution_count": 1,
   "metadata": {},
   "outputs": [],
   "source": [
    "import torch\n",
    "from torch.utils.data import DataLoader\n",
    "import torch.nn.functional as F\n",
    "from contrastive_model import SemanticSimilarityModel\n",
    "from zero_shot_datasets import GTZANDataset\n",
    "from transformers import  BertTokenizer\n",
    "from sklearn.metrics import confusion_matrix, ConfusionMatrixDisplay\n",
    "import matplotlib.pyplot as plt\n",
    "from tqdm import tqdm\n",
    "import numpy as np\n",
    "import glob\n",
    "import os\n",
    "import IPython"
   ]
  },
  {
   "cell_type": "code",
   "execution_count": 2,
   "metadata": {},
   "outputs": [],
   "source": [
    "bert_tokenizer = BertTokenizer.from_pretrained('bert-base-cased')"
   ]
  },
  {
   "cell_type": "code",
   "execution_count": 3,
   "metadata": {},
   "outputs": [
    {
     "name": "stdout",
     "output_type": "stream",
     "text": [
      "cuda\n"
     ]
    }
   ],
   "source": [
    "device = 'cuda' if torch.cuda.is_available() else 'cpu'\n",
    "print(device)"
   ]
  },
  {
   "cell_type": "code",
   "execution_count": null,
   "metadata": {},
   "outputs": [
    {
     "name": "stderr",
     "output_type": "stream",
     "text": [
      "/home/theodore/Desktop/regularized music encoder/.venv/lib/python3.11/site-packages/torch/nn/modules/transformer.py:282: UserWarning: enable_nested_tensor is True, but self.use_nested_tensor is False because encoder_layer.self_attn.batch_first was not True(use batch_first for better inference performance)\n",
      "  warnings.warn(f\"enable_nested_tensor is True, but self.use_nested_tensor is False because {why_not_sparsity_fast_path}\")\n"
     ]
    },
    {
     "name": "stdout",
     "output_type": "stream",
     "text": [
      "training loss: 4.93751827029288 \n",
      "validation los: 5.057297009688157\n"
     ]
    },
    {
     "data": {
      "text/plain": [
       "SemanticSimilarityModel(\n",
       "  (music_encoder): TransformerVQVAE(\n",
       "    (encoder): Sequential(\n",
       "      (0): Conv2d(1, 32, kernel_size=(3, 3), stride=(2, 2), padding=(1, 1))\n",
       "      (1): ReLU()\n",
       "      (2): Conv2d(32, 64, kernel_size=(3, 3), stride=(2, 2), padding=(1, 1))\n",
       "      (3): ReLU()\n",
       "      (4): Conv2d(64, 64, kernel_size=(3, 3), stride=(2, 2), padding=(1, 1))\n",
       "    )\n",
       "    (transformer): TransformerEncoder(\n",
       "      (layers): ModuleList(\n",
       "        (0-3): 4 x TransformerEncoderLayer(\n",
       "          (self_attn): MultiheadAttention(\n",
       "            (out_proj): NonDynamicallyQuantizableLinear(in_features=64, out_features=64, bias=True)\n",
       "          )\n",
       "          (linear1): Linear(in_features=64, out_features=256, bias=True)\n",
       "          (dropout): Dropout(p=0.1, inplace=False)\n",
       "          (linear2): Linear(in_features=256, out_features=64, bias=True)\n",
       "          (norm1): LayerNorm((64,), eps=1e-05, elementwise_affine=True)\n",
       "          (norm2): LayerNorm((64,), eps=1e-05, elementwise_affine=True)\n",
       "          (dropout1): Dropout(p=0.1, inplace=False)\n",
       "          (dropout2): Dropout(p=0.1, inplace=False)\n",
       "        )\n",
       "      )\n",
       "    )\n",
       "    (vq): VectorQuantizer(\n",
       "      (embedding): Embedding(512, 64)\n",
       "    )\n",
       "    (decoder): Sequential(\n",
       "      (0): ConvTranspose2d(64, 64, kernel_size=(3, 3), stride=(2, 2), padding=(1, 1), output_padding=(1, 1))\n",
       "      (1): ReLU()\n",
       "      (2): ConvTranspose2d(64, 32, kernel_size=(3, 3), stride=(2, 2), padding=(1, 1), output_padding=(1, 1))\n",
       "      (3): ReLU()\n",
       "      (4): ConvTranspose2d(32, 1, kernel_size=(3, 3), stride=(2, 2), padding=(1, 1), output_padding=(1, 1))\n",
       "      (5): Tanh()\n",
       "    )\n",
       "  )\n",
       "  (conv1): Conv3d(64, 128, kernel_size=(3, 3, 3), stride=(1, 1, 1))\n",
       "  (conv2): Conv3d(128, 256, kernel_size=(3, 3, 3), stride=(1, 1, 1))\n",
       "  (timeseries_fc): Linear(in_features=141312, out_features=512, bias=True)\n",
       "  (text_encoder): BertModel(\n",
       "    (embeddings): BertEmbeddings(\n",
       "      (word_embeddings): Embedding(28996, 768, padding_idx=0)\n",
       "      (position_embeddings): Embedding(512, 768)\n",
       "      (token_type_embeddings): Embedding(2, 768)\n",
       "      (LayerNorm): LayerNorm((768,), eps=1e-12, elementwise_affine=True)\n",
       "      (dropout): Dropout(p=0.1, inplace=False)\n",
       "    )\n",
       "    (encoder): BertEncoder(\n",
       "      (layer): ModuleList(\n",
       "        (0-11): 12 x BertLayer(\n",
       "          (attention): BertAttention(\n",
       "            (self): BertSdpaSelfAttention(\n",
       "              (query): Linear(in_features=768, out_features=768, bias=True)\n",
       "              (key): Linear(in_features=768, out_features=768, bias=True)\n",
       "              (value): Linear(in_features=768, out_features=768, bias=True)\n",
       "              (dropout): Dropout(p=0.1, inplace=False)\n",
       "            )\n",
       "            (output): BertSelfOutput(\n",
       "              (dense): Linear(in_features=768, out_features=768, bias=True)\n",
       "              (LayerNorm): LayerNorm((768,), eps=1e-12, elementwise_affine=True)\n",
       "              (dropout): Dropout(p=0.1, inplace=False)\n",
       "            )\n",
       "          )\n",
       "          (intermediate): BertIntermediate(\n",
       "            (dense): Linear(in_features=768, out_features=3072, bias=True)\n",
       "            (intermediate_act_fn): GELUActivation()\n",
       "          )\n",
       "          (output): BertOutput(\n",
       "            (dense): Linear(in_features=3072, out_features=768, bias=True)\n",
       "            (LayerNorm): LayerNorm((768,), eps=1e-12, elementwise_affine=True)\n",
       "            (dropout): Dropout(p=0.1, inplace=False)\n",
       "          )\n",
       "        )\n",
       "      )\n",
       "    )\n",
       "    (pooler): BertPooler(\n",
       "      (dense): Linear(in_features=768, out_features=768, bias=True)\n",
       "      (activation): Tanh()\n",
       "    )\n",
       "  )\n",
       "  (text_fc): Linear(in_features=768, out_features=512, bias=True)\n",
       ")"
      ]
     },
     "execution_count": 4,
     "metadata": {},
     "output_type": "execute_result"
    }
   ],
   "source": [
    "model = SemanticSimilarityModel().to(device)\n",
    "saved_model = torch.load('contrasitive_training_checkpoints/checkpoint_epoch_100.pth')\n",
    "state_dict = saved_model['model_state_dict']\n",
    "training_loss = saved_model['train_loss']\n",
    "validation_loss = saved_model['valid_loss']\n",
    "\n",
    "print(f'training loss: {training_loss} \\nvalidation los: {validation_loss}')\n",
    "model.load_state_dict(state_dict)\n",
    "model.eval()"
   ]
  },
  {
   "cell_type": "code",
   "execution_count": 5,
   "metadata": {},
   "outputs": [],
   "source": [
    "def text_embedding(text):\n",
    "    inputs = bert_tokenizer(text, padding='max_length', truncation=True, max_length=128, return_tensors='pt')\n",
    "\n",
    "    input_ids = inputs['input_ids'].squeeze(0)\n",
    "    attention_mask = inputs['attention_mask'].squeeze(0)\n",
    "\n",
    "    return input_ids, attention_mask"
   ]
  },
  {
   "cell_type": "code",
   "execution_count": 6,
   "metadata": {},
   "outputs": [],
   "source": [
    "from zero_shot_utils import get_melspec\n",
    "\n",
    "def predict_similarity(music_path, text):\n",
    "    music = get_melspec(music_path)\n",
    "\n",
    "    inputs = bert_tokenizer(text, padding='max_length', truncation=True, max_length=128, return_tensors='pt')\n",
    "\n",
    "    input_ids = inputs['input_ids'].squeeze(0)\n",
    "    attention_mask = inputs['attention_mask'].squeeze(0)\n",
    "\n",
    "    music = music.unsqueeze(0)\n",
    "    music = music.unsqueeze(2)\n",
    "    input_ids = input_ids.unsqueeze(0)\n",
    "    attention_mask = attention_mask.unsqueeze(0)\n",
    "\n",
    "    music, input_ids, attention_mask = music.to(device), input_ids.to(device), attention_mask.to(device)\n",
    "\n",
    "    music_embedding, text_embedding = model(music, input_ids, attention_mask)\n",
    "    \n",
    "    similarity = F.cosine_similarity(music_embedding.unsqueeze(1), text_embedding.unsqueeze(0), dim=2)\n",
    "\n",
    "    return similarity"
   ]
  },
  {
   "cell_type": "code",
   "execution_count": 7,
   "metadata": {},
   "outputs": [
    {
     "name": "stderr",
     "output_type": "stream",
     "text": [
      "predicting...: 100%|██████████| 30/30 [00:09<00:00,  3.30it/s]\n",
      "predicting...: 100%|██████████| 30/30 [00:08<00:00,  3.70it/s]\n",
      "predicting...: 100%|██████████| 30/30 [00:07<00:00,  3.97it/s]\n",
      "predicting...: 100%|██████████| 30/30 [00:07<00:00,  4.17it/s]\n"
     ]
    }
   ],
   "source": [
    "'''MUSIC INSTRUMENT DETECTION'''\n",
    "labels = ['Piano', 'Drums', 'Acoustic Guitar', 'String Ensemble']\n",
    "gtruth = ['piano', 'drums', 'guitar', 'strings']\n",
    "\n",
    "\n",
    "\n",
    "def predict_instrument(music_path):\n",
    "    assert os.path.isfile(music_path)\n",
    "    similarities = []\n",
    "    for text in labels:\n",
    "        sim_score = predict_similarity(music_path, text)\n",
    "        similarities.append(sim_score.detach().cpu().numpy())\n",
    "    max_arg = np.argmax(similarities)\n",
    "    return gtruth[max_arg]\n",
    "    # for i in range(len(similarities)):\n",
    "    #     print(f'{labels[i]}: {similarities[i][0][0]}')\n",
    "\n",
    "preds = []\n",
    "actual = []\n",
    "for idx in range(len(gtruth)):\n",
    "    for i in tqdm(range(1, 31), desc='predicting...'):\n",
    "        prediction =  predict_instrument(f'../../data/instruments/{gtruth[idx]}_{i}.wav')\n",
    "        preds.append(prediction)\n",
    "        actual.append(gtruth[idx])\n",
    "\n",
    "\n"
   ]
  },
  {
   "cell_type": "code",
   "execution_count": 8,
   "metadata": {},
   "outputs": [
    {
     "name": "stdout",
     "output_type": "stream",
     "text": [
      "Confusion Matrix:\n"
     ]
    },
    {
     "data": {
      "image/png": "[encoded data removed]",
      "text/plain": [
       "<Figure size 640x480 with 2 Axes>"
      ]
     },
     "metadata": {},
     "output_type": "display_data"
    }
   ],
   "source": [
    "# Generate confusion matrix\n",
    "cm = confusion_matrix(actual, preds)\n",
    "cm = cm/cm.sum(axis=1)\n",
    "cm = np.around(cm, decimals=2)\n",
    "# Print confusion matrix\n",
    "cm = np.around(cm, decimals=2)\n",
    "\n",
    "# Print formatted confusion matrix\n",
    "print(\"Confusion Matrix:\")\n",
    "\n",
    "# Normalize the confusion matrix\n",
    "cm = confusion_matrix(actual, preds)\n",
    "cm = cm / cm.sum(axis=1, keepdims=True)\n",
    "\n",
    "# Format the confusion matrix to two decimal places\n",
    "cm = np.around(cm, decimals=2)\n",
    "\n",
    "# Visualize the confusion matrix\n",
    "disp = ConfusionMatrixDisplay(confusion_matrix=cm, display_labels=gtruth)\n",
    "disp.plot(cmap=plt.cm.Blues, values_format='.2f')\n",
    "plt.title('Instrument Classification')\n",
    "plt.show()\n"
   ]
  },
  {
   "cell_type": "code",
   "execution_count": 9,
   "metadata": {},
   "outputs": [
    {
     "name": "stdout",
     "output_type": "stream",
     "text": [
      "[[0.5  0.03 0.43 0.03]\n",
      " [0.03 0.03 0.9  0.03]\n",
      " [0.03 0.07 0.9  0.  ]\n",
      " [0.   0.13 0.87 0.  ]]\n",
      "Precision per class: [0.8928571428571428, 0.11538461538461538, 0.2903225806451613, 0.0]\n",
      "Recall per class: [0.5050505050505051, 0.030303030303030304, 0.9, 0.0]\n",
      "F1 scores per class: [0.6451612903225806, 0.048, 0.4390243902439024, 0]\n",
      "Macro-averaged F1 score: 0.28304642014162074\n"
     ]
    }
   ],
   "source": [
    "# F1 score calculation\n",
    "print(cm)\n",
    "precision = []\n",
    "recall = []\n",
    "f1_scores = []\n",
    "\n",
    "# Compute metrics for each class\n",
    "num_classes = cm.shape[0]\n",
    "for i in range(num_classes):\n",
    "    TP = cm[i, i]\n",
    "    FP = sum(cm[:, i]) - TP\n",
    "    FN = sum(cm[i, :]) - TP\n",
    "    \n",
    "    # Precision, Recall, and F1 for the class\n",
    "    prec = TP / (TP + FP) if (TP + FP) > 0 else 0\n",
    "    rec = TP / (TP + FN) if (TP + FN) > 0 else 0\n",
    "    f1 = 2 * (prec * rec) / (prec + rec) if (prec + rec) > 0 else 0\n",
    "    \n",
    "    precision.append(prec)\n",
    "    recall.append(rec)\n",
    "    f1_scores.append(f1)\n",
    "\n",
    "# Macro-averaged F1 score\n",
    "macro_f1 = np.mean(f1_scores)\n",
    "\n",
    "# Print results\n",
    "print(f\"Precision per class: {precision}\")\n",
    "print(f\"Recall per class: {recall}\")\n",
    "print(f\"F1 scores per class: {f1_scores}\")\n",
    "print(f\"Macro-averaged F1 score: {macro_f1}\")"
   ]
  },
  {
   "cell_type": "code",
   "execution_count": 10,
   "metadata": {},
   "outputs": [
    {
     "name": "stdout",
     "output_type": "stream",
     "text": [
      "slow\n",
      "slow\n",
      "slow\n",
      "slow\n",
      "slow\n",
      "slow\n",
      "slow\n",
      "slow\n",
      "slow\n",
      "slow\n",
      "==================================================\n",
      "slow\n",
      "fast\n",
      "slow\n",
      "slow\n",
      "fast\n",
      "slow\n",
      "slow\n",
      "slow\n",
      "slow\n",
      "slow\n"
     ]
    }
   ],
   "source": [
    "'''TEMPO CLASSIFICATION'''\n",
    "tempos = ['fast', 'slow']\n",
    "def predict_tempo(music_path):\n",
    "    assert os.path.isfile(music_path)\n",
    "    similarities = []\n",
    "    for text in tempos:\n",
    "        sim_score = predict_similarity(music_path, text)\n",
    "        similarities.append(sim_score.detach().cpu().numpy())\n",
    "    max_arg = np.argmax(similarities)\n",
    "    return tempos[max_arg]\n",
    "\n",
    "print(predict_tempo('../../data/tempo/fast_1.wav'))\n",
    "print(predict_tempo('../../data/tempo/fast_2.wav'))\n",
    "print(predict_tempo('../../data/tempo/fast_3.wav'))\n",
    "print(predict_tempo('../../data/tempo/fast_4.wav'))\n",
    "print(predict_tempo('../../data/tempo/fast_5.wav'))\n",
    "print(predict_tempo('../../data/tempo/fast_6.wav'))\n",
    "print(predict_tempo('../../data/tempo/fast_7.wav'))\n",
    "print(predict_tempo('../../data/tempo/fast_8.wav'))\n",
    "print(predict_tempo('../../data/tempo/fast_9.wav'))\n",
    "print(predict_tempo('../../data/tempo/fast_10.wav'))\n",
    "print('=' * 50)\n",
    "print(predict_tempo('../../data/tempo/slow_1.wav'))\n",
    "print(predict_tempo('../../data/tempo/slow_2.wav'))\n",
    "print(predict_tempo('../../data/tempo/slow_3.wav'))\n",
    "print(predict_tempo('../../data/tempo/slow_4.wav'))\n",
    "print(predict_tempo('../../data/tempo/slow_5.wav'))\n",
    "print(predict_tempo('../../data/tempo/slow_6.wav'))\n",
    "print(predict_tempo('../../data/tempo/slow_7.wav'))\n",
    "print(predict_tempo('../../data/tempo/slow_8.wav'))\n",
    "print(predict_tempo('../../data/tempo/slow_9.wav'))\n",
    "print(predict_tempo('../../data/tempo/slow_10.wav'))"
   ]
  },
  {
   "cell_type": "code",
   "execution_count": 43,
   "metadata": {},
   "outputs": [],
   "source": [
    "import pandas as pd\n",
    "midicaps_df = pd.read_csv('../../data/MIDICaps/captions.csv', header = None)\n",
    "midicaps_df.rename(columns = {0: 'path', 1: 'captions'}, inplace = True)"
   ]
  },
  {
   "cell_type": "code",
   "execution_count": 44,
   "metadata": {},
   "outputs": [
    {
     "data": {
      "text/plain": [
       "'A short electronic ambient song featuring a piano, set in E major with a 4/4 time signature and a Presto tempo. The composition evokes a cinematic, energetic, and melodic atmosphere with hints of epic and dark undertones. The chord progression of B, Emaj7, C#m7, B7, and A adds to its captivating ambiance.'"
      ]
     },
     "execution_count": 44,
     "metadata": {},
     "output_type": "execute_result"
    }
   ],
   "source": [
    "midicaps_df.iloc[0]['captions']"
   ]
  },
  {
   "cell_type": "code",
   "execution_count": 11,
   "metadata": {},
   "outputs": [],
   "source": [
    "'''TIME SIGNATURE CLASSIFICATION'''\n",
    "import os \n",
    "import glob\n",
    "keys = ['4/4', '3/4', '2/4']\n",
    "def predict_key(music_path):\n",
    "    assert os.path.isfile(music_path)\n",
    "    similarities = []\n",
    "    for text in keys:\n",
    "        prompt = f'song in {text} time'\n",
    "        sim_score = predict_similarity(music_path, prompt)\n",
    "        similarities.append(sim_score.detach().cpu().numpy())\n",
    "    max_arg = np.argmax(similarities)\n",
    "    return keys[max_arg]\n",
    "\n",
    "import IPython\n",
    "filenames = glob.glob(os.path.join('../../data/time signature detection/', '*.wav'))\n",
    "predictions = []\n",
    "actual = []\n",
    "for path in filenames:\n",
    "    temp = path.split('/')[-1].split('_')[0]\n",
    "    if temp  == '44':\n",
    "        gtruth = '4/4'\n",
    "    elif temp == '34':\n",
    "        gtruth = '3/4'\n",
    "    elif temp == '24':\n",
    "        gtruth = '2/4'\n",
    "\n",
    "    preds = predict_key(path)\n",
    "\n",
    "    predictions.append(preds)\n",
    "    actual.append(gtruth)"
   ]
  },
  {
   "cell_type": "code",
   "execution_count": 12,
   "metadata": {},
   "outputs": [
    {
     "name": "stdout",
     "output_type": "stream",
     "text": [
      "Confusion Matrix:\n"
     ]
    },
    {
     "data": {
      "image/png": "[encoded data removed]",
      "text/plain": [
       "<Figure size 640x480 with 2 Axes>"
      ]
     },
     "metadata": {},
     "output_type": "display_data"
    }
   ],
   "source": [
    "# Generate confusion matrix\n",
    "cm = confusion_matrix(actual, predictions)\n",
    "cm = cm/cm.sum(axis=1)\n",
    "cm = np.around(cm, decimals=2)\n",
    "\n",
    "# Print formatted confusion matrix\n",
    "print(\"Confusion Matrix:\")\n",
    "\n",
    "\n",
    "# Visualize the confusion matrix\n",
    "disp = ConfusionMatrixDisplay(confusion_matrix=cm, display_labels=keys[::-1])\n",
    "disp.plot(cmap=plt.cm.Blues, values_format='.2f')\n",
    "plt.title('Time Signature Classification')\n",
    "plt.show()\n"
   ]
  },
  {
   "cell_type": "code",
   "execution_count": 13,
   "metadata": {},
   "outputs": [
    {
     "name": "stdout",
     "output_type": "stream",
     "text": [
      "[[0.5 0.3 0.2]\n",
      " [0.  0.7 0.3]\n",
      " [0.4 0.3 0.3]]\n",
      "Precision per class: [0.5555555555555556, 0.5384615384615384, 0.37499999999999994]\n",
      "Recall per class: [0.5, 0.7, 0.3]\n",
      "F1 scores per class: [0.5263157894736842, 0.608695652173913, 0.3333333333333333]\n",
      "Macro-averaged F1 score: 0.4894482583269768\n"
     ]
    }
   ],
   "source": [
    "# F1 score calculation\n",
    "print(cm)\n",
    "precision = []\n",
    "recall = []\n",
    "f1_scores = []\n",
    "\n",
    "# Compute metrics for each class\n",
    "num_classes = cm.shape[0]\n",
    "for i in range(num_classes):\n",
    "    TP = cm[i, i]\n",
    "    FP = sum(cm[:, i]) - TP\n",
    "    FN = sum(cm[i, :]) - TP\n",
    "    \n",
    "    # Precision, Recall, and F1 for the class\n",
    "    prec = TP / (TP + FP) if (TP + FP) > 0 else 0\n",
    "    rec = TP / (TP + FN) if (TP + FN) > 0 else 0\n",
    "    f1 = 2 * (prec * rec) / (prec + rec) if (prec + rec) > 0 else 0\n",
    "    \n",
    "    precision.append(prec)\n",
    "    recall.append(rec)\n",
    "    f1_scores.append(f1)\n",
    "\n",
    "# Macro-averaged F1 score\n",
    "macro_f1 = np.mean(f1_scores)\n",
    "\n",
    "# Print results\n",
    "print(f\"Precision per class: {precision}\")\n",
    "print(f\"Recall per class: {recall}\")\n",
    "print(f\"F1 scores per class: {f1_scores}\")\n",
    "print(f\"Macro-averaged F1 score: {macro_f1}\")"
   ]
  },
  {
   "cell_type": "markdown",
   "metadata": {},
   "source": [
    "Sentiment Analysis"
   ]
  },
  {
   "cell_type": "code",
   "execution_count": 52,
   "metadata": {},
   "outputs": [
    {
     "name": "stdout",
     "output_type": "stream",
     "text": [
      "['../../data/chord detection/canon_d3.wav', '../../data/chord detection/canon_c2.wav', '../../data/chord detection/canon_d1.wav', '../../data/chord detection/canon_d5.wav', '../../data/chord detection/canon_d2.wav', '../../data/chord detection/canon_c_1.wav', '../../data/chord detection/canon_c3.wav', '../../data/chord detection/canon_d4.wav', '../../data/chord detection/canon_c4.wav']\n"
     ]
    }
   ],
   "source": [
    "'''KEY DETECTION'''\n",
    "import os \n",
    "import glob\n",
    "sentiments = [\n",
    "    \"C major\", \"G major\", \"D major\"\n",
    "]\n",
    "\n",
    "def predict_key(music_path):\n",
    "    assert os.path.isfile(music_path)\n",
    "    similarities = []\n",
    "    for text in sentiments:\n",
    "        prompt = f'A song in the key of {text}'\n",
    "        sim_score = predict_similarity(music_path, prompt)\n",
    "        similarities.append(sim_score.detach().cpu().numpy())\n",
    "    max_arg = np.argmax(similarities)\n",
    "    return sentiments[max_arg]\n",
    "\n",
    "\n",
    "filenames = glob.glob(os.path.join('../../data/chord detection/', '*.wav'))\n",
    "print(filenames)\n",
    "predictions =[]\n",
    "for path in filenames:\n",
    "    name = path.split('/')[-1]\n",
    "    temp = name.split('_')[0]\n",
    "\n",
    "    preds = predict_key(path)\n",
    "\n",
    "    predictions.append([name, preds])"
   ]
  },
  {
   "cell_type": "code",
   "execution_count": null,
   "metadata": {},
   "outputs": [
    {
     "name": "stdout",
     "output_type": "stream",
     "text": [
      "canon_c2.wav \t C major\n",
      "canon_c3.wav \t C major\n",
      "canon_c4.wav \t C major\n",
      "canon_c_1.wav \t C major\n",
      "canon_d1.wav \t G major\n",
      "canon_d2.wav \t D major\n",
      "canon_d3.wav \t D major\n",
      "canon_d4.wav \t C major\n",
      "canon_d5.wav \t C major\n"
     ]
    },
    {
     "ename": "",
     "evalue": "",
     "output_type": "error",
     "traceback": [
      "\u001b[1;31mThe Kernel crashed while executing code in the current cell or a previous cell. \n",
      "\u001b[1;31mPlease review the code in the cell(s) to identify a possible cause of the failure. \n",
      "\u001b[1;31mClick <a href='https://aka.ms/vscodeJupyterKernelCrash'>here</a> for more info. \n",
      "\u001b[1;31mView Jupyter <a href='command:jupyter.viewOutput'>log</a> for further details."
     ]
    }
   ],
   "source": [
    "predictions = sorted(predictions, key=lambda x: x[0])\n",
    "for path, sentiment in predictions:\n",
    "    print(f'{path} \\t {sentiment}')"
   ]
  },
  {
   "cell_type": "code",
   "execution_count": null,
   "metadata": {},
   "outputs": [],
   "source": []
  }
 ],
 "metadata": {
  "kernelspec": {
   "display_name": ".venv",
   "language": "python",
   "name": "python3"
  },
  "language_info": {
   "codemirror_mode": {
    "name": "ipython",
    "version": 3
   },
   "file_extension": ".py",
   "mimetype": "text/x-python",
   "name": "python",
   "nbconvert_exporter": "python",
   "pygments_lexer": "ipython3",
   "version": "3.11.0"
  }
 },
 "nbformat": 4,
 "nbformat_minor": 2
}
